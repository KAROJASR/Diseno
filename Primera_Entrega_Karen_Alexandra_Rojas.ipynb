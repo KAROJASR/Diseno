{
  "nbformat": 4,
  "nbformat_minor": 0,
  "metadata": {
    "colab": {
      "name": "Primera Entrega Karen Alexandra Rojas",
      "provenance": [],
      "mount_file_id": "1jljbfPH9l9q05xYYEiZ2s5cRwJLxTF0A",
      "authorship_tag": "ABX9TyMWIdpNVZlhZc/YJbOFwxJG",
      "include_colab_link": true
    },
    "kernelspec": {
      "name": "python3",
      "display_name": "Python 3"
    },
    "language_info": {
      "name": "python"
    }
  },
  "cells": [
    {
      "cell_type": "markdown",
      "metadata": {
        "id": "view-in-github",
        "colab_type": "text"
      },
      "source": [
        "<a href=\"https://colab.research.google.com/github/KAROJASR/Diseno/blob/main/Primera_Entrega_Karen_Alexandra_Rojas.ipynb\" target=\"_parent\"><img src=\"https://colab.research.google.com/assets/colab-badge.svg\" alt=\"Open In Colab\"/></a>"
      ]
    },
    {
      "cell_type": "markdown",
      "source": [
        "#**Primera entrega Computación estadística 2022-1**\n",
        "\n"
      ],
      "metadata": {
        "id": "HBSb-NQFaSIA"
      }
    },
    {
      "cell_type": "markdown",
      "source": [
        "\n",
        "\n",
        "*    Cargar archivo de Excel\n",
        "\n"
      ],
      "metadata": {
        "id": "WgzkHsJFaj8l"
      }
    },
    {
      "cell_type": "code",
      "execution_count": 2,
      "metadata": {
        "id": "q1Nw7T3WaFUr"
      },
      "outputs": [],
      "source": [
        "ruta_archivo='/content/drive/MyDrive/Computación estadística/Datos EM.gsheet'"
      ]
    },
    {
      "cell_type": "markdown",
      "source": [
        "\n",
        "\n",
        "*   Colocar una imagen desde internet\n",
        "\n"
      ],
      "metadata": {
        "id": "_8OUnVModBrq"
      }
    },
    {
      "cell_type": "markdown",
      "source": [
        "![](https://encrypted-tbn0.gstatic.com/images?q=tbn:ANd9GcTT11cN6F-Do_1UnFDjm-5FnujH6Zn8Z49B4g&usqp=CAU)\n",
        "\n",
        "[Link de la imagen](https://encrypted-tbn0.gstatic.com/images?q=tbn:ANd9GcTT11cN6F-Do_1UnFDjm-5FnujH6Zn8Z49B4g&usqp=CAU)\n"
      ],
      "metadata": {
        "id": "LWi2LZo2ecce"
      }
    },
    {
      "cell_type": "markdown",
      "source": [
        "\n",
        "\n",
        "*   Escribir una matriz 4x4 (en $\\LaTeX$)\n",
        "\n"
      ],
      "metadata": {
        "id": "F1RWTGN_j-md"
      }
    },
    {
      "cell_type": "markdown",
      "source": [
        "$$\\begin{bmatrix}\n",
        "8 & 4 & 1 & 9  \\\\\n",
        "-7 & 1 & 3 & 2 \\\\\n",
        "1 & 1 & 2 & -1 \\\\\n",
        "7 & 3 & -6 & 5 \\\\\n",
        "\\end{bmatrix}$$"
      ],
      "metadata": {
        "id": "XJDnyE3tlay-"
      }
    },
    {
      "cell_type": "markdown",
      "source": [
        "\n",
        "\n",
        "*   ¿Cómo hacer una tabla? (en $\\LaTeX$)\n",
        "\n",
        "\n",
        "\n",
        "\n",
        "\n"
      ],
      "metadata": {
        "id": "tZNZLOhSll8U"
      }
    },
    {
      "cell_type": "markdown",
      "source": [
        "\n",
        "\n",
        "\\begin{array}{|c|c|} \\hline\n",
        "Nombre & Apellido & Edad & Género \\\\ \\hline\n",
        "Estiven & Arias & 5 & Masculino \\\\ \\hline\n",
        "Antonia & Martinez & 4 & Femenino \\\\\\hline\n",
        "Joshua & Contreras & 6 & Masculino \\\\ \\hline\n",
        "\\end{array}\n",
        "\n",
        "\n",
        "\n"
      ],
      "metadata": {
        "id": "iAfFlnwarP3q"
      }
    },
    {
      "cell_type": "markdown",
      "source": [
        "\n",
        "\n",
        "*   Copiar una ecuación estadística. (en $\\LaTeX$)\n",
        "\n"
      ],
      "metadata": {
        "id": "_5FCIhlylrsw"
      }
    },
    {
      "cell_type": "markdown",
      "source": [
        "*Ecuación de coeficiente de correlación lineal*\n",
        "$$P_{xy}= \\frac{Cov_{xy}}{\\sigma _{x}\\sigma _{y}}$$\n",
        "\n",
        "Cov (x;y): la covarianza entre el valor «x» e «y».\n",
        "\n",
        "σ(x): desviación típica de «x».\n",
        "\n",
        "σ(y): desviación típica de «y».\n"
      ],
      "metadata": {
        "id": "vK_7e0B0mVat"
      }
    }
  ]
}